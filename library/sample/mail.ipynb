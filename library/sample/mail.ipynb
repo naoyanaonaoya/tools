{
 "cells": [
  {
   "cell_type": "code",
   "execution_count": null,
   "metadata": {},
   "outputs": [],
   "source": [
    "from smtplib import SMTP\n",
    "\n",
    "from email.mime.text import MIMEText # MIME形式のデータを送信するため\n",
    "from email.utils import formadate # 時間を扱う\n",
    "from email.mime.multipart import MIMEMultipart\n",
    "\n",
    "from email.utils import formadate"
   ]
  }
 ],
 "metadata": {
  "language_info": {
   "name": "python"
  },
  "orig_nbformat": 4
 },
 "nbformat": 4,
 "nbformat_minor": 2
}
