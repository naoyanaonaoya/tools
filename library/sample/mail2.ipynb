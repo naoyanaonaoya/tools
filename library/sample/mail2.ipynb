{
 "cells": [
  {
   "cell_type": "code",
   "execution_count": 13,
   "metadata": {},
   "outputs": [],
   "source": [
    "import datetime # 時間を取得する\n",
    "import smtplib # メールサーバーを操作してメールを送信する\n",
    "# SMTP メールを送信するための通人のルール\n",
    "import ssl # 暗号化や認証の仕組みを使う\n",
    "from email.mime.text import MIMEText # メールを日本語で送信できるようにする\n"
   ]
  },
  {
   "cell_type": "code",
   "execution_count": 14,
   "metadata": {},
   "outputs": [],
   "source": [
    "# import sys, codecs\n",
    "# # sys.stdout = codecs.getwriter(\"utf-8\")(sys.stdout)\n",
    "# sys.stdout = codecs.getwriter('utf8')(sys.stdout)\n",
    "# sys.stderr = codecs.getwriter('utf8')(sys.stderr)\n",
    "# import sys, io\n",
    "# sys.stdout = io.TextIOWrapper(sys.stdout.buffer, encoding='utf-8')\n",
    "import sys, io\n",
    "sys.stdout = io.TextIOWrapper(sys.stdout, encoding='utf-8')"
   ]
  },
  {
   "cell_type": "markdown",
   "metadata": {},
   "source": [
    "# Gmailの送信"
   ]
  },
  {
   "cell_type": "code",
   "execution_count": 21,
   "metadata": {},
   "outputs": [],
   "source": [
    "gmail_account = 'naoya.basket.a.i@gmail.com'\n",
    "gmail_password = 'kosqexqbuagzxnwr'\n",
    "mail_to = 'naoya.basket.a.i@gmail.com'\n",
    "send_name = 'なおや'"
   ]
  },
  {
   "cell_type": "code",
   "execution_count": 22,
   "metadata": {},
   "outputs": [],
   "source": [
    "today_date = datetime.date.today()\n",
    "# today_date\n",
    "delivary_date = today_date + datetime.timedelta(days=7)\n",
    "# today_date = '2022/04/06'\n",
    "# delivery_date = today_date + datetime.timedelta(days=7)\n",
    "# delivery_date_str = str(delivery_date)\n",
    "# delivery_date_str = delivery_date.strftime('%Y/%m/%d')\n",
    "# print(delivery_date_str)\n",
    "# today_date\n",
    "# delivery_date"
   ]
  },
  {
   "cell_type": "code",
   "execution_count": 23,
   "metadata": {},
   "outputs": [
    {
     "data": {
      "text/plain": [
       "'表題の発注書をお送りいたします。<br>添付ファイルをご確認下さい。<br>本発注の納期は2022-04-14となります。<br><br>今井'"
      ]
     },
     "execution_count": 23,
     "metadata": {},
     "output_type": "execute_result"
    }
   ],
   "source": [
    "subject = \"{0}様、{1}分の発注書をお送りします。\".format(send_name, today_date)\n",
    "# subject = \"sama\"\n",
    "# print(subject)\n",
    "subject\n",
    "body = \"表題の発注書をお送りいたします。<br>添付ファイルをご確認下さい。<br>本発注の納期は{0}となります。<br><br>今井\".format(delivary_date)\n",
    "body\n",
    "# <br>は開業"
   ]
  },
  {
   "cell_type": "code",
   "execution_count": 24,
   "metadata": {},
   "outputs": [
    {
     "data": {
      "text/plain": [
       "<email.mime.text.MIMEText at 0x10daab370>"
      ]
     },
     "execution_count": 24,
     "metadata": {},
     "output_type": "execute_result"
    }
   ],
   "source": [
    "msg = MIMEText(body, \"html\")\n",
    "msg"
   ]
  },
  {
   "cell_type": "code",
   "execution_count": 25,
   "metadata": {},
   "outputs": [
    {
     "data": {
      "text/plain": [
       "<email.mime.text.MIMEText at 0x10daab370>"
      ]
     },
     "execution_count": 25,
     "metadata": {},
     "output_type": "execute_result"
    }
   ],
   "source": [
    "msg[\"Subject\"] = subject\n",
    "msg[\"To\"] = mail_to\n",
    "msg[\"From\"] = gmail_account\n",
    "msg"
   ]
  },
  {
   "cell_type": "code",
   "execution_count": 26,
   "metadata": {},
   "outputs": [
    {
     "data": {
      "text/plain": [
       "'送信完了'"
      ]
     },
     "execution_count": 26,
     "metadata": {},
     "output_type": "execute_result"
    }
   ],
   "source": [
    "server = smtplib.SMTP_SSL(\"smtp.gmail.com\", 465, context=ssl.create_default_context())\n",
    "server.login(gmail_account, gmail_password)\n",
    "server.send_message(msg)\n",
    "server.close()\n",
    "'送信完了'"
   ]
  },
  {
   "cell_type": "code",
   "execution_count": null,
   "metadata": {},
   "outputs": [],
   "source": []
  },
  {
   "cell_type": "code",
   "execution_count": null,
   "metadata": {},
   "outputs": [],
   "source": []
  }
 ],
 "metadata": {
  "interpreter": {
   "hash": "aee8b7b246df8f9039afb4144a1f6fd8d2ca17a180786b69acc140d282b71a49"
  },
  "kernelspec": {
   "display_name": "Python 3.9.10 64-bit",
   "language": "python",
   "name": "python3"
  },
  "language_info": {
   "codemirror_mode": {
    "name": "ipython",
    "version": 3
   },
   "file_extension": ".py",
   "mimetype": "text/x-python",
   "name": "python",
   "nbconvert_exporter": "python",
   "pygments_lexer": "ipython3",
   "version": "3.9.10"
  },
  "orig_nbformat": 4
 },
 "nbformat": 4,
 "nbformat_minor": 2
}
