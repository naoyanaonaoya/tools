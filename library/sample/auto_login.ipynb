{
 "cells": [
  {
   "cell_type": "code",
   "execution_count": 16,
   "metadata": {},
   "outputs": [
    {
     "name": "stderr",
     "output_type": "stream",
     "text": [
      "WARNING:root:Watch out!\n"
     ]
    },
    {
     "name": "stdout",
     "output_type": "stream",
     "text": [
      "/Users/imainaoya/gitlab_personal/library\n",
      "<class 'str'>\n"
     ]
    }
   ],
   "source": [
    "import sys\n",
    "from selenium import webdriver\n",
    "import os\n",
    "import logging\n",
    "import logging.config\n",
    "import chromedriver_binary\n",
    "\n",
    "# logging.config.fileConfig('logging.conf')\n",
    "# logger = logging.getLogger('root')\n",
    "# logging.debug(\"AUTO LOGIN START\")\n",
    "\n",
    "logging.warning('Watch out!') # 想定外のことが起こった、または問題が近く起こりそうであることの表示\n",
    "logging.info('I told you so') # 想定された通りのことが起こったことの確認\n",
    "path = os.getcwd()\n",
    "print(path)\n",
    "print(type(path))\n",
    "\n",
    "def AutoLogin():\n",
    "    # 起動するブラウザを宣言します\n",
    "    browser = webdriver.Chrome('')\n",
    "    url = \"https://www.google.com/?hl=ja\"\n",
    "    browser.get(url)\n",
    "    \n",
    "ret = AutoLogin\n"
   ]
  },
  {
   "cell_type": "code",
   "execution_count": 7,
   "metadata": {},
   "outputs": [
    {
     "name": "stderr",
     "output_type": "stream",
     "text": [
      "WARNING:root:Adn this, too\n",
      "ERROR:root:And non-ASCII stuff, too, like`\n"
     ]
    }
   ],
   "source": [
    "import logging\n",
    "logging.basicConfig(filename='example.log', encoding='utf-8', level=logging.DEBUG)\n",
    "logging.debug('This message should go to the log file')\n",
    "logging.info('So should this')\n",
    "logging.warning('Adn this, too')\n",
    "logging.error('And non-ASCII stuff, too, like`')"
   ]
  },
  {
   "cell_type": "code",
   "execution_count": 9,
   "metadata": {},
   "outputs": [
    {
     "name": "stderr",
     "output_type": "stream",
     "text": [
      "WARNING:__main__:1件の警告があります。\n",
      "ERROR:__main__:エラーが発生しました。\n"
     ]
    }
   ],
   "source": [
    "import logging\n",
    "\n",
    "logging.basicConfig(level=logging.INFO)\n",
    "logger = logging.getLogger(__name__)\n",
    "logger.debug(\"調査用ログ\")\n",
    "logger.info(\"処理を開始します。\")\n",
    "logger.warning(\"1件の警告があります。\")\n",
    "logger.error(\"エラーが発生しました。\")"
   ]
  },
  {
   "cell_type": "code",
   "execution_count": null,
   "metadata": {},
   "outputs": [],
   "source": []
  }
 ],
 "metadata": {
  "interpreter": {
   "hash": "aee8b7b246df8f9039afb4144a1f6fd8d2ca17a180786b69acc140d282b71a49"
  },
  "kernelspec": {
   "display_name": "Python 3.9.10 64-bit",
   "language": "python",
   "name": "python3"
  },
  "language_info": {
   "codemirror_mode": {
    "name": "ipython",
    "version": 3
   },
   "file_extension": ".py",
   "mimetype": "text/x-python",
   "name": "python",
   "nbconvert_exporter": "python",
   "pygments_lexer": "ipython3",
   "version": "3.9.10"
  },
  "orig_nbformat": 4
 },
 "nbformat": 4,
 "nbformat_minor": 2
}
