{
 "cells": [
  {
   "cell_type": "code",
   "execution_count": 1,
   "metadata": {},
   "outputs": [
    {
     "name": "stdout",
     "output_type": "stream",
     "text": [
      "**********************************************************************\n",
      "File \"__main__\", line 6, in __main__.sample\n",
      "Failed example:\n",
      "    'title' in sample('python')\n",
      "Exception raised:\n",
      "    Traceback (most recent call last):\n",
      "      File \"/usr/local/Cellar/python@3.9/3.9.10/Frameworks/Python.framework/Versions/3.9/lib/python3.9/doctest.py\", line 1334, in __run\n",
      "        exec(compile(example.source, filename, \"single\",\n",
      "      File \"<doctest __main__.sample[0]>\", line 1, in <module>\n",
      "        'title' in sample('python')\n",
      "      File \"/var/folders/6z/wl4s_0317pbfvkg59jrg13j00000gn/T/ipykernel_91283/1754438552.py\", line 13, in sample\n",
      "        return list(r.json()[0].keys())\n",
      "    KeyError: 0\n",
      "**********************************************************************\n",
      "File \"__main__\", line 8, in __main__.sample\n",
      "Failed example:\n",
      "    'totle' in sample('python')\n",
      "Exception raised:\n",
      "    Traceback (most recent call last):\n",
      "      File \"/usr/local/Cellar/python@3.9/3.9.10/Frameworks/Python.framework/Versions/3.9/lib/python3.9/doctest.py\", line 1334, in __run\n",
      "        exec(compile(example.source, filename, \"single\",\n",
      "      File \"<doctest __main__.sample[1]>\", line 1, in <module>\n",
      "        'totle' in sample('python')\n",
      "      File \"/var/folders/6z/wl4s_0317pbfvkg59jrg13j00000gn/T/ipykernel_91283/1754438552.py\", line 13, in sample\n",
      "        return list(r.json()[0].keys())\n",
      "    KeyError: 0\n",
      "**********************************************************************\n",
      "1 items had failures:\n",
      "   2 of   2 in __main__.sample\n",
      "***Test Failed*** 2 failures.\n"
     ]
    }
   ],
   "source": [
    "import doctest\n",
    "import requests\n",
    "\n",
    "def sample(query):\n",
    "    \"\"\" requests sample that use qiita search api\n",
    "    >>> 'title' in sample('python')\n",
    "    True\n",
    "    >>> 'totle' in sample('python')\n",
    "    False\n",
    "    \"\"\"\n",
    "    q = {'q':  query}\n",
    "    r = requests.get('https://qiita.com/api/v1/search', params=q)\n",
    "    return list(r.json()[0].keys())\n",
    "\n",
    "if __name__ == \"__main__\":\n",
    "    doctest.testmod()"
   ]
  },
  {
   "cell_type": "code",
   "execution_count": null,
   "metadata": {},
   "outputs": [],
   "source": []
  }
 ],
 "metadata": {
  "interpreter": {
   "hash": "aee8b7b246df8f9039afb4144a1f6fd8d2ca17a180786b69acc140d282b71a49"
  },
  "kernelspec": {
   "display_name": "Python 3.9.10 64-bit",
   "language": "python",
   "name": "python3"
  },
  "language_info": {
   "codemirror_mode": {
    "name": "ipython",
    "version": 3
   },
   "file_extension": ".py",
   "mimetype": "text/x-python",
   "name": "python",
   "nbconvert_exporter": "python",
   "pygments_lexer": "ipython3",
   "version": "3.9.10"
  },
  "orig_nbformat": 4
 },
 "nbformat": 4,
 "nbformat_minor": 2
}
