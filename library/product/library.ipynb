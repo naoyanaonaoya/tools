{
 "cells": [
  {
   "cell_type": "code",
   "execution_count": 3,
   "metadata": {},
   "outputs": [],
   "source": [
    "from selenium import webdriver # chromeを操作するため\n",
    "from selenium.webdriver.chrome.options import Options # オプションを使うために必要\n",
    "from selenium.webdriver.common.by import By # chromeを操作するため\n",
    "from time import sleep # 待機のため\n",
    "\n",
    "import datetime # 時間を取得する\n",
    "import smtplib # メールサーバーを操作してメールを送信する\n",
    "# SMTP メールを送信するための通人のルール\n",
    "import ssl # 暗号化や認証の仕組みを使う\n",
    "from email.mime.text import MIMEText # メールを日本語で送信できるようにする\n",
    "\n",
    "import sys, io\n",
    "sys.stdout = io.TextIOWrapper(sys.stdout, encoding='utf-8')\n",
    "\n",
    "from password.id_password import *"
   ]
  },
  {
   "cell_type": "code",
   "execution_count": 4,
   "metadata": {},
   "outputs": [],
   "source": [
    "option = Options()                          # オプションを用意\n",
    "option.add_argument('--headless')           # ヘッドレスモードの設定を付与\n",
    "browser = webdriver.Chrome(options=option)\n",
    "# browser = webdriver.Chrome()\n",
    "\n",
    "url = \"https://www.meguro-library.jp/opw/OPS/OPSUSER.CSP\"\n",
    "browser.get(url)\n",
    "\n",
    "cardnumber_xpath = \"/html/body/div/section/form/article[2]/div/ul/li[1]/input\"\n",
    "elem_username = browser.find_element(By.XPATH, cardnumber_xpath)\n",
    "elem_username.send_keys(library_ID)\n",
    "\n",
    "password_xpath = \"/html/body/div/section/form/article[2]/div/ul/li[2]/input\"\n",
    "elem_username = browser.find_element(By.XPATH, password_xpath)\n",
    "elem_username.send_keys(library_PASSWORD)\n",
    "\n",
    "# login_button_xpath = \"/html/body/div/section/form/article[3]/div/ul/li[3]/a\"\n",
    "# elem_login_btn = browser.find_element(By.PARTIAL_LINK_TEXT, login_xpath)\n",
    "# これだけはpythonからjavascriptを動かす構文\n",
    "# https://python-auto.com/2020/02/10/%E3%80%90python3%E3%83%BB%E3%82%B9%E3%82%AF%E3%83%AC%E3%82%A4%E3%83%94%E3%83%B3%E3%82%B0%E3%80%91-a%E3%82%BF%E3%82%B0%E3%81%8C%E3%82%AF%E3%83%AA%E3%83%83%E3%82%AF%E5%87%BA%E6%9D%A5%E3%81%AA%E3%81%84/\n",
    "browser.execute_script('javascript:GoLogin(\"../OPS/OPSUSERLOGIN.CSP\")')\n",
    "# elem_login_btn.click()\n",
    "\n",
    "user_page_xpath = \"/html/body/div/div[1]/nav/li[2]/a\"\n",
    "user_page_btn = browser.find_element(By.XPATH, user_page_xpath)\n",
    "user_page_btn.click()\n",
    "\n",
    "lending_xpath = \"/html/body/div/section[2]/article[3]/ul/li[1]/a\"\n",
    "lendeig_page_btn = browser.find_element(By.XPATH, lending_xpath)\n",
    "lendeig_page_btn.click()\n",
    "\n",
    "subject = \"目黒区立図書館の図書の返却期限が迫っています。\"\n",
    "body = \"\"\n",
    "# <br>は開業\n",
    "\n",
    "books = browser.find_elements(By.CLASS_NAME, 'item')\n",
    "for i in range(len(books)):\n",
    "    s = books[i].text\n",
    "    # print(s)\n",
    "    # print(type(books[i].text))\n",
    "    # print('タイトル' in s)\n",
    "    # print(s.find('タイトル'))\n",
    "    number_title = s.find('タイトル')\n",
    "    number_kind = s.find('種別')\n",
    "    string_title = s[number_title+5:number_kind-1]\n",
    "    body += \"　署名　　：\" + string_title + \"<br>\"\n",
    "    # print(string_title)\n",
    "    # print(s.find('貸出日'))\n",
    "    number_loanDate = s.find('貸出日')\n",
    "    string_loanDate = s[number_loanDate+4:number_loanDate+14]\n",
    "    body += \"　貸出日　：\" +  string_loanDate + \"<br>\"\n",
    "    # print(string_loanDate)\n",
    "    # print(s.find('返却期限日'))\n",
    "    number_returnDeadline = s.find('返却期限日')\n",
    "    string_returnDeadline = s[number_returnDeadline+6:number_returnDeadline+16]\n",
    "    body += \"返却期限日：\" + string_returnDeadline + \"<br>\" + \"<br>\"\n",
    "    # print(string_returnDeadline)\n",
    "    # print('貸出日' in s)\n",
    "    # print('返却期限日' in s)\n",
    "\n",
    "sleep(10)\n",
    "\n",
    "browser.quit()\n"
   ]
  },
  {
   "cell_type": "code",
   "execution_count": 6,
   "metadata": {},
   "outputs": [
    {
     "data": {
      "text/plain": [
       "'\\u3000署名\\u3000\\u3000：人生を変えるアニメ<br>\\u3000貸出日\\u3000：2022/03/26<br>返却期限日：2022/04/09<br><br>\\u3000署名\\u3000\\u3000：色彩<br>\\u3000貸出日\\u3000：2022/03/26<br>返却期限日：2022/04/09<br><br>\\u3000署名\\u3000\\u3000：号泣する準備はできていた<br>\\u3000貸出日\\u3000：2022/03/26<br>返却期限日：2022/04/09<br><br>\\u3000署名\\u3000\\u3000：風の歌を聴け<br>\\u3000貸出日\\u3000：2022/03/31<br>返却期限日：2022/04/14<br><br>\\u3000署名\\u3000\\u3000：愛じゃないならこれは何<br>\\u3000貸出日\\u3000：2022/03/31<br>返却期限日：2022/04/14<br><br>'"
      ]
     },
     "execution_count": 6,
     "metadata": {},
     "output_type": "execute_result"
    }
   ],
   "source": [
    "body"
   ]
  },
  {
   "cell_type": "code",
   "execution_count": 9,
   "metadata": {},
   "outputs": [],
   "source": [
    "import sys, io\n",
    "sys.stdout = io.TextIOWrapper(sys.stdout, encoding='utf-8')\n",
    "\n",
    "gmail_account = str(google_ID)\n",
    "gmail_password = str(google_PASSWORD)\n",
    "mail_to = str(google_ID)\n",
    "send_name = 'なおや'\n",
    "\n",
    "mail_to\n",
    "\n",
    "# today_date = datetime.date.today()\n",
    "# delivary_date = today_date + datetime.timedelta(days=7)\n",
    "\n",
    "msg = MIMEText(body, \"html\")\n",
    "# msg\n",
    "\n",
    "msg[\"Subject\"] = subject\n",
    "msg[\"To\"] = mail_to\n",
    "msg[\"From\"] = gmail_account\n",
    "# msg"
   ]
  },
  {
   "cell_type": "code",
   "execution_count": 10,
   "metadata": {},
   "outputs": [
    {
     "data": {
      "text/plain": [
       "'送信完了'"
      ]
     },
     "execution_count": 10,
     "metadata": {},
     "output_type": "execute_result"
    }
   ],
   "source": [
    "server = smtplib.SMTP_SSL(\"smtp.gmail.com\", 465, context=ssl.create_default_context())\n",
    "server.login(gmail_account, gmail_password)\n",
    "server.send_message(msg)\n",
    "server.close()\n",
    "'送信完了'"
   ]
  },
  {
   "cell_type": "code",
   "execution_count": null,
   "metadata": {},
   "outputs": [],
   "source": []
  }
 ],
 "metadata": {
  "interpreter": {
   "hash": "aee8b7b246df8f9039afb4144a1f6fd8d2ca17a180786b69acc140d282b71a49"
  },
  "kernelspec": {
   "display_name": "Python 3.9.10 64-bit",
   "language": "python",
   "name": "python3"
  },
  "language_info": {
   "codemirror_mode": {
    "name": "ipython",
    "version": 3
   },
   "file_extension": ".py",
   "mimetype": "text/x-python",
   "name": "python",
   "nbconvert_exporter": "python",
   "pygments_lexer": "ipython3",
   "version": "3.9.10"
  },
  "orig_nbformat": 4
 },
 "nbformat": 4,
 "nbformat_minor": 2
}
