{
 "cells": [
  {
   "cell_type": "code",
   "execution_count": 5,
   "metadata": {},
   "outputs": [],
   "source": [
    "from selenium import webdriver # chromeを操作するため\n",
    "from selenium.webdriver.chrome.options import Options # オプションを使うために必要\n",
    "from selenium.webdriver.common.by import By # chromeを操作するため\n",
    "from time import sleep # 待機のため\n",
    "\n",
    "from PIL import ImageGrab\n",
    "from pynput import keyboard"
   ]
  },
  {
   "cell_type": "code",
   "execution_count": 9,
   "metadata": {},
   "outputs": [
    {
     "name": "stdout",
     "output_type": "stream",
     "text": [
      "test1\n"
     ]
    }
   ],
   "source": [
    "option = Options()\n",
    "option.add_argument('--headless')\n",
    "browser = webdriver.Chrome()\n",
    "# browser = webdriver.Chrome(optoins=option)\n",
    "\n",
    "url = \"https://magazine.dmkt-sp.jp/\"\n",
    "browser.get(url)\n",
    "\n",
    "\n",
    "print(\"test1\")\n",
    "\n",
    "# browser.quit()"
   ]
  },
  {
   "cell_type": "code",
   "execution_count": null,
   "metadata": {},
   "outputs": [],
   "source": []
  }
 ],
 "metadata": {
  "interpreter": {
   "hash": "aee8b7b246df8f9039afb4144a1f6fd8d2ca17a180786b69acc140d282b71a49"
  },
  "kernelspec": {
   "display_name": "Python 3.9.10 64-bit",
   "language": "python",
   "name": "python3"
  },
  "language_info": {
   "codemirror_mode": {
    "name": "ipython",
    "version": 3
   },
   "file_extension": ".py",
   "mimetype": "text/x-python",
   "name": "python",
   "nbconvert_exporter": "python",
   "pygments_lexer": "ipython3",
   "version": "3.9.10"
  },
  "orig_nbformat": 4
 },
 "nbformat": 4,
 "nbformat_minor": 2
}
